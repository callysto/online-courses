{
 "cells": [
  {
   "cell_type": "markdown",
   "metadata": {},
   "source": [
    "![Callysto.ca Banner](https://github.com/callysto/curriculum-notebooks/blob/master/callysto-notebook-banner-top.jpg?raw=true)"
   ]
  },
  {
   "cell_type": "markdown",
   "metadata": {},
   "source": [
    "# Drawing with Turtles\n",
    "\n",
    "We can have fun and create art by commanding turtles to move around the screen.\n",
    "\n",
    "This uses a Python library called [ColabTurtlePlus](https://pypi.org/project/ColabTurtlePlus/), which is an extension of the original **ColabTurtle** by Tolga Atam. "
   ]
  },
  {
   "cell_type": "markdown",
   "metadata": {},
   "source": [
    "## Turtle Commands\n",
    "\n",
    "`t.speed(integer)`\n",
    "* Speed of your turtle, 1-13 (hint set your speed to 13) \n",
    "\n",
    "`t.pendown()` or `t.penup()`\n",
    "* For drawing lines or not \n",
    "\n",
    "`t.right(degrees)` or `t.left(degrees)`\n",
    "* Turn turtle left or right by some degree \n",
    "\n",
    "`t.forward(units)` or `t.backward(units)`\n",
    "* Move your turtle forward or backward (units are in pixels) \n",
    "\n",
    "`t.pencolor(“color”)`\n",
    "* Set the color of your turtle’s line, e.g. “blue” \n",
    "\n",
    "`t.circle(r, degrees)`\n",
    "* Have turtle draw a piece of a circle of radius *r*, some number of degrees "
   ]
  },
  {
   "cell_type": "markdown",
   "metadata": {},
   "source": [
    "## Can you get your Turtle to draw this house?"
   ]
  },
  {
   "cell_type": "markdown",
   "metadata": {},
   "source": [
    "![house](images/turtle-house.png)"
   ]
  },
  {
   "cell_type": "code",
   "execution_count": null,
   "metadata": {},
   "outputs": [],
   "source": [
    "# import the drawing library, ColabTurtlePlus as cTurtle\n",
    "import ColabTurtlePlus.Turtle as cTurtle \n",
    "# this library will come in handy when making the roof, hint math.sqrt()\n",
    "import math \n",
    "\n",
    "cTurtle.clearscreen()\n",
    "cTurtle.setup(400, 400)\n",
    "cTurtle.showborder()\n",
    "t = cTurtle.Turtle()\n",
    "t.shape(\"turtle\")\n",
    "t.speed(13)\n",
    "\n",
    "### enter your code below, use the turtle commands above such as t.forward(100) and t.right(90)\n",
    "t.forward(100) #hint"
   ]
  },
  {
   "cell_type": "markdown",
   "metadata": {},
   "source": [
    "## Now let's try to draw this flower with our Turtle"
   ]
  },
  {
   "cell_type": "markdown",
   "metadata": {},
   "source": [
    "![flower](images/turtle-flower.png)"
   ]
  },
  {
   "cell_type": "markdown",
   "metadata": {},
   "source": [
    "### Start by drawing a box efficiently with a `for` loop"
   ]
  },
  {
   "cell_type": "code",
   "execution_count": null,
   "metadata": {},
   "outputs": [],
   "source": [
    "import ColabTurtlePlus.Turtle as cTurtle \n",
    "cTurtle.clearscreen()\n",
    "cTurtle.setup(400, 400)\n",
    "cTurtle.showborder()\n",
    "t = cTurtle.Turtle()\n",
    "t.shape(\"turtle\")\n",
    "t.speed(13)\n",
    "\n",
    "# enter a value for range, how many times do we need to repeat to draw a box?\n",
    "for i in range(4): \n",
    "    # enter a unit value\n",
    "    t.forward() \n",
    "    # enter a degree value\n",
    "    t.right() "
   ]
  },
  {
   "cell_type": "markdown",
   "metadata": {},
   "source": [
    "### Draw a box with a function"
   ]
  },
  {
   "cell_type": "code",
   "execution_count": null,
   "metadata": {},
   "outputs": [],
   "source": [
    "import ColabTurtlePlus.Turtle as cTurtle \n",
    "cTurtle.clearscreen()\n",
    "cTurtle.setup(400, 400)\n",
    "cTurtle.showborder()\n",
    "t = cTurtle.Turtle()\n",
    "t.shape(\"turtle\")\n",
    "t.speed(13)\n",
    "\n",
    "# def means define function, in this case our function is called box\n",
    "def box(units): \n",
    "    # enter a value for range. hint: how many times do we need to repeat to draw a box?  \n",
    "    for i in range(4): \n",
    "        t.forward(units)\n",
    "        # enter a degree value\n",
    "        t.right(90)\n",
    "\n",
    "# enter a unit value for our box function. hint: how many units did we use above?\n",
    "box()"
   ]
  },
  {
   "cell_type": "markdown",
   "metadata": {},
   "source": [
    "### Draw a flower with `def` and `for` loops"
   ]
  },
  {
   "cell_type": "code",
   "execution_count": null,
   "metadata": {},
   "outputs": [],
   "source": [
    "import ColabTurtlePlus.Turtle as cTurtle \n",
    "cTurtle.clearscreen()\n",
    "cTurtle.setup(400, 400)\n",
    "cTurtle.showborder()\n",
    "t = cTurtle.Turtle()\n",
    "t.shape(\"turtle\")\n",
    "t.speed(13)\n",
    "\n",
    "def box(units):\n",
    "    # enter a value for range\n",
    "    for i in range(4): \n",
    "        t.forward(units)\n",
    "        # enter a degree value\n",
    "        t.right(90)\n",
    "\n",
    "# do you know why we repeat our loop 18 times and use 20 degrees for our right turn below?\n",
    "for i in range(18):\n",
    "    # enter a unit value\n",
    "    box() \n",
    "    t.right(20)"
   ]
  },
  {
   "cell_type": "markdown",
   "metadata": {},
   "source": [
    "### Add colours to our flower using a `list`"
   ]
  },
  {
   "cell_type": "code",
   "execution_count": null,
   "metadata": {
    "collapsed": true
   },
   "outputs": [],
   "source": [
    "colours = [\"red\", \"blue\", \"purple\"] # this is a python list\n",
    "colours[2] # let's call a list item, try changing the number to return blue"
   ]
  },
  {
   "cell_type": "code",
   "execution_count": null,
   "metadata": {
    "collapsed": true
   },
   "outputs": [],
   "source": [
    "# let's print what this looks like, remember our loop with 18 iterations?\n",
    "for i in range(18): \n",
    "    # we use 3 because we have 3 colours. the % sign is for the modulo math operator. \n",
    "    print(colours[i % 3], i % 3)"
   ]
  },
  {
   "cell_type": "code",
   "execution_count": null,
   "metadata": {},
   "outputs": [],
   "source": [
    "# now let's put it all together\n",
    "import ColabTurtlePlus.Turtle as cTurtle \n",
    "cTurtle.clearscreen()\n",
    "cTurtle.setup(400, 400)\n",
    "cTurtle.showborder()\n",
    "t = cTurtle.Turtle()\n",
    "t.shape(\"turtle\")\n",
    "t.speed(13)\n",
    "\n",
    "def box(units):\n",
    "    # enter a value for range\n",
    "    for i in range(): \n",
    "        t.forward(units)\n",
    "        # enter a degree value\n",
    "        t.right(90) \n",
    "\n",
    "colours = [\"purple\", \"blue\", \"red\"]  \n",
    "for i in range(18):\n",
    "    # new turtle command\n",
    "    t.pencolor(colours[i % 3]) \n",
    "    # enter a unit value\n",
    "    box() \n",
    "    t.right(20)"
   ]
  },
  {
   "cell_type": "markdown",
   "metadata": {},
   "source": [
    "## Bonus Challenge: Try to draw this pointy flower"
   ]
  },
  {
   "cell_type": "markdown",
   "metadata": {},
   "source": [
    "![flower](images/turtle-pointy-flower.png)"
   ]
  },
  {
   "cell_type": "code",
   "execution_count": null,
   "metadata": {
    "collapsed": true
   },
   "outputs": [],
   "source": [
    "### enter your code below. don't forget to import your turtle module!"
   ]
  },
  {
   "cell_type": "markdown",
   "metadata": {},
   "source": [
    "### Congratulations, you've successfully programmed your Turtle!"
   ]
  },
  {
   "cell_type": "markdown",
   "metadata": {},
   "source": [
    "[![Callysto.ca License](https://github.com/callysto/curriculum-notebooks/blob/master/callysto-notebook-banner-bottom.jpg?raw=true)](https://github.com/callysto/curriculum-notebooks/blob/master/LICENSE.md)"
   ]
  }
 ],
 "metadata": {
  "kernelspec": {
   "display_name": "Python 3",
   "language": "python",
   "name": "python3"
  },
  "language_info": {
   "codemirror_mode": {
    "name": "ipython",
    "version": 3
   },
   "file_extension": ".py",
   "mimetype": "text/x-python",
   "name": "python",
   "nbconvert_exporter": "python",
   "pygments_lexer": "ipython3",
   "version": "3.10.8"
  }
 },
 "nbformat": 4,
 "nbformat_minor": 2
}
